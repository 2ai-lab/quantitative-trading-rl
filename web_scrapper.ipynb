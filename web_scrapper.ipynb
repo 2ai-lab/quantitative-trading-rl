{
 "cells": [
  {
   "cell_type": "code",
   "execution_count": 1,
   "metadata": {},
   "outputs": [],
   "source": [
    "from bs4 import BeautifulSoup\n",
    "from selenium import webdriver\n",
    "from selenium.webdriver.common.action_chains import ActionChains\n",
    "import time\n",
    "import pandas as pd\n"
   ]
  },
  {
   "cell_type": "code",
   "execution_count": 9,
   "metadata": {},
   "outputs": [],
   "source": [
    "tickers = ['GOOG', 'AAPL', 'MSFT', 'TSLA', 'AMZN']"
   ]
  },
  {
   "cell_type": "code",
   "execution_count": 10,
   "metadata": {},
   "outputs": [],
   "source": [
    "driver = webdriver.Chrome()\n",
    "driver.maximize_window()\n",
    "\n",
    "for ticker in tickers:\n",
    "    driver.get(\"https://finance.yahoo.com/\")\n",
    "\n",
    "    driver.find_element(value=\"yfin-usr-qry\").send_keys(ticker)\n",
    "    driver.find_element(value=\"header-desktop-search-button\").click()\n",
    "    time.sleep(10)\n",
    "\n",
    "    driver.find_element('xpath','''//*[@id=\"quote-nav\"]/ul/li[6]/a''').click()\n",
    "    time.sleep(10)\n",
    "\n",
    "    driver.find_element('xpath','''//*[@id=\"Col1-1-HistoricalDataTable-Proxy\"]/section/div[1]/div[1]/div[1]/div/div/div/span''').click()\n",
    "    driver.find_element('xpath','''//*[@id=\"dropdown-menu\"]/div/ul[2]/li[4]/button''').click()\n",
    "    driver.find_element('xpath','''//*[@id=\"Col1-1-HistoricalDataTable-Proxy\"]/section/div[1]/div[1]/button''').click()\n",
    "\n",
    "    i = 1\n",
    "    while(i < 100):\n",
    "        driver.execute_script(f\"window.scrollTo(0, (document.body.scrollHeight)*{i * 10});\")\n",
    "        i = i + 1\n",
    "        time.sleep(0.5)\n",
    "\n",
    "    # Pulls the Historical Data\n",
    "    data = []\n",
    "    webpage = driver.page_source\n",
    "    soup = BeautifulSoup(webpage, 'html')\n",
    "    stock_prices = soup.find_all('tr', class_='BdT Bdc($seperatorColor) Ta(end) Fz(s) Whs(nw)')\n",
    "    for stock_price in stock_prices:\n",
    "        stock_price = stock_price.find_all('td')\n",
    "        price = []\n",
    "        for stock in stock_price:\n",
    "            price.append(stock.text)\n",
    "        data.append(price)\n",
    "\n",
    "    # Generate csv file \n",
    "    database = pd.DataFrame(data, columns = [\"Date\", \"Open\", \"High\", \"Low\", \"Close\", \"Adj. Close\", \"Volume\"])\n",
    "    database.to_csv(rf'./Dataset/{ticker}.csv', index = False)\n",
    "\n",
    "driver.quit()\n"
   ]
  }
 ],
 "metadata": {
  "kernelspec": {
   "display_name": "venv",
   "language": "python",
   "name": "python3"
  },
  "language_info": {
   "codemirror_mode": {
    "name": "ipython",
    "version": 3
   },
   "file_extension": ".py",
   "mimetype": "text/x-python",
   "name": "python",
   "nbconvert_exporter": "python",
   "pygments_lexer": "ipython3",
   "version": "3.10.7"
  },
  "orig_nbformat": 4
 },
 "nbformat": 4,
 "nbformat_minor": 2
}
